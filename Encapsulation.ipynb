{
 "cells": [
  {
   "cell_type": "markdown",
   "metadata": {},
   "source": [
    "### Encapsulation\n",
    "- data hiding\n",
    "- wrapping up data(attribute) and methods(function) working on data togather in single unit (i.e class) is called encapsulation\n",
    "- bundling of data and method that operate on the data into a single unit or class.\n",
    "\n",
    "- Encapsulation in Python is like putting all the important things about an object inside a safe box, and only allowing specific ways to open the box and use what's inside. "
   ]
  },
  {
   "cell_type": "code",
   "execution_count": 8,
   "metadata": {},
   "outputs": [
    {
     "name": "stdout",
     "output_type": "stream",
     "text": [
      "Rammani Pandey\n",
      "Name is:Rammani Pandey and Age is:21\n"
     ]
    }
   ],
   "source": [
    "class student:\n",
    "    def __init__(self,name , age):\n",
    "        self.name = name\n",
    "        self.age = age\n",
    "    \n",
    "    def show(self):\n",
    "        print(f\"Name is:{self.name} and Age is:{self.age}\")\n",
    "\n",
    "s = student('Rammani Pandey', 21)\n",
    "print(s.name)\n",
    "s.show()"
   ]
  },
  {
   "cell_type": "markdown",
   "metadata": {},
   "source": [
    "we can protect attribute using access modifiers \n",
    "- **public member :-** Access Anywhere by using object reference \n",
    "- **private member :-** Accessible within the class Accessible via method only  **(Double underscore prefix: __variable, with name mangling)**\n",
    "- **protected member :-** Accessible within class and it's subclass only. **(Single underscore prefix: _variable)**\n"
   ]
  },
  {
   "cell_type": "code",
   "execution_count": 24,
   "metadata": {},
   "outputs": [
    {
     "name": "stdout",
     "output_type": "stream",
     "text": [
      "John\n"
     ]
    }
   ],
   "source": [
    "#Public Modifier \n",
    "class PublicExample:\n",
    "    def __init__(self):\n",
    "        self.name = \"John\"  # public attribute\n",
    "    \n",
    "    def display(self):\n",
    "        return self.name  # public method\n",
    "\n",
    "p = PublicExample()\n",
    "print(p.display())"
   ]
  },
  {
   "cell_type": "code",
   "execution_count": 25,
   "metadata": {},
   "outputs": [
    {
     "name": "stdout",
     "output_type": "stream",
     "text": [
      "John\n"
     ]
    }
   ],
   "source": [
    "#Protected Modifier \n",
    "class ProtectedMember:\n",
    "    def __init__(self):\n",
    "        self.__name = \"John\"  # Protected attribute\n",
    "    \n",
    "    def display(self):\n",
    "        return self.__name  # public method\n",
    "\n",
    "p = ProtectedMember()\n",
    "print(p.display())"
   ]
  },
  {
   "cell_type": "code",
   "execution_count": 26,
   "metadata": {},
   "outputs": [
    {
     "name": "stdout",
     "output_type": "stream",
     "text": [
      "I am protected\n"
     ]
    }
   ],
   "source": [
    "class Base:\n",
    "    def __init__(self):\n",
    "        self._protected_variable = \"I am protected\" ##Protected attribute\n",
    "\n",
    "class Derived(Base):\n",
    "    def show(self):\n",
    "        print(self._protected_variable)  # Accessing protected variable\n",
    "\n",
    "obj = Derived()\n",
    "# obj.show() \n",
    "print(obj._protected_variable) "
   ]
  },
  {
   "cell_type": "code",
   "execution_count": 21,
   "metadata": {},
   "outputs": [
    {
     "name": "stdout",
     "output_type": "stream",
     "text": [
      "I am private\n",
      "I am private\n"
     ]
    }
   ],
   "source": [
    "#Private Attribute\n",
    "class Example:\n",
    "    def __init__(self):\n",
    "        self.__private_variable = \"I am private\" #Private Attribute\n",
    "\n",
    "    def get_private_variable(self):\n",
    "        return self.__private_variable\n",
    "\n",
    "obj = Example()\n",
    "print(obj.get_private_variable())  \n",
    "# print(obj.__private_variable)    \n",
    "\n",
    "# # Accessing the mangled name\n",
    "print(obj._Example__private_variable)"
   ]
  },
  {
   "cell_type": "code",
   "execution_count": 23,
   "metadata": {},
   "outputs": [
    {
     "name": "stdout",
     "output_type": "stream",
     "text": [
      "Balance: 150\n"
     ]
    }
   ],
   "source": [
    "class BankAccount:\n",
    "    def __init__(self, balance):\n",
    "        self.__balance = balance  # Hiding the balance with __\n",
    "\n",
    "    def deposit(self, amount):\n",
    "        self.__balance += amount  # Adding money\n",
    "\n",
    "    def withdraw(self, amount):\n",
    "        if amount <= self.__balance:\n",
    "            self.__balance -= amount  # Taking money out\n",
    "        else:\n",
    "            print(\"Not enough money!\")\n",
    "\n",
    "    def check_balance(self):\n",
    "        return self.__balance  # Only this function can show the balance\n",
    "\n",
    "# Creating a bank account with 100\n",
    "account = BankAccount(100)\n",
    "\n",
    "# Adding money\n",
    "account.deposit(50)\n",
    "\n",
    "# Checking balance\n",
    "print(\"Balance:\", account.check_balance())\n",
    "\n",
    "# Trying to access hidden balance directly (won't work)\n",
    "# print(account.__balance)  # This will give an error because balance is private"
   ]
  },
  {
   "cell_type": "markdown",
   "metadata": {},
   "source": [
    "\n",
    "Name Mangling Python mein ek technique hai jo private attributes (yaani ki double underscore se shuru hone wale attributes) ko access karne ke liye istemal hoti hai. Iska maqsad yeh hai ki attributes ka naam automatically change (mangle) kiya ja sake taaki unhe class ke bahar se access karna mushkil ho jaye."
   ]
  },
  {
   "cell_type": "markdown",
   "metadata": {},
   "source": [
    "Jab aap __attribute declare karte hain, to Python uska naam is tarah se change karta hai:\n",
    "\n",
    "Class MyClass ke andar __attribute ka naam MyClass__attribute ban jata hai.\n",
    "Is wajah se aap is attribute ko MyClass se bahar se directly access nahi kar sakte."
   ]
  },
  {
   "cell_type": "markdown",
   "metadata": {},
   "source": []
  }
 ],
 "metadata": {
  "kernelspec": {
   "display_name": "Python 3",
   "language": "python",
   "name": "python3"
  },
  "language_info": {
   "codemirror_mode": {
    "name": "ipython",
    "version": 3
   },
   "file_extension": ".py",
   "mimetype": "text/x-python",
   "name": "python",
   "nbconvert_exporter": "python",
   "pygments_lexer": "ipython3",
   "version": "3.11.3"
  }
 },
 "nbformat": 4,
 "nbformat_minor": 2
}
