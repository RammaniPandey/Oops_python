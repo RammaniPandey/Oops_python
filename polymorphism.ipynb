{
 "cells": [
  {
   "cell_type": "markdown",
   "metadata": {},
   "source": [
    "### **Polymorphism**\n",
    "- The word \"polymorphism\" means \"many forms\", and in programming it refers to methods/functions/operators with the same name that can be executed on many objects or classes.\n",
    "\n",
    "- or simply we say that **Polymorphism** is made from 2 words – **‘poly‘** and **‘morphs.’** The word **‘poly’** means **‘many’** and **‘morphs’** means **‘many forms.’** Polymorphism, in a nutshell, means having multiple forms. To put it simply, polymorphism allows us to do the same activity in a variety of ways."
   ]
  },
  {
   "cell_type": "markdown",
   "metadata": {},
   "source": [
    "#### **Types of Polymorphism:**\n",
    "**Compile-Time Polymorphism (Method Overloading):** Python does not support traditional method overloading (multiple methods with the same name but different parameters) like Java or C++.\n",
    "\n",
    "**Run-Time Polymorphism (Method Overriding):** This occurs when a child class provides its own implementation of a method that is already defined in the parent class.\n",
    "\n",
    "\n",
    "#### **Operator overloading**"
   ]
  },
  {
   "cell_type": "code",
   "execution_count": 23,
   "metadata": {},
   "outputs": [
    {
     "name": "stdout",
     "output_type": "stream",
     "text": [
      "Length of string: 11\n",
      "Length of list: 5\n",
      "Length of dict: 2\n"
     ]
    }
   ],
   "source": [
    "\n",
    "mystr = 'Programming'\n",
    "print('Length of string:', len(mystr))\n",
    "\n",
    "mylist = [1, 2, 3, 4, 5]\n",
    "print('Length of list:', len(mylist))\n",
    "\n",
    "mydict = {1: 'One', 2: 'Two'}\n",
    "print('Length of dict:', len(mydict))"
   ]
  },
  {
   "cell_type": "code",
   "execution_count": 24,
   "metadata": {},
   "outputs": [
    {
     "name": "stdout",
     "output_type": "stream",
     "text": [
      "Addition of 2 numbers: 30\n",
      "Concatenation of 2 strings: Hello Python\n",
      "Concatenation of 2 lists: [1, 2, 3, 'A', 'B']\n"
     ]
    }
   ],
   "source": [
    "# Operator Overloading\n",
    "a = 10\n",
    "b = 20\n",
    "print('Addition of 2 numbers:', a + b)\n",
    "\n",
    "str1 = 'Hello '\n",
    "str2 = 'Python'\n",
    "print('Concatenation of 2 strings:', str1 + str2)\n",
    "\n",
    "list1 = [1, 2, 3]\n",
    "list2 = ['A', 'B']\n",
    "print('Concatenation of 2 lists:', list1 + list2)"
   ]
  },
  {
   "cell_type": "code",
   "execution_count": 26,
   "metadata": {},
   "outputs": [
    {
     "name": "stdout",
     "output_type": "stream",
     "text": [
      "14\n",
      "4\n"
     ]
    }
   ],
   "source": [
    "# len() function is used for a string  \n",
    "print (len(\"Rammani Pandey\"))\n",
    "  \n",
    "# len() function is used for a list  \n",
    "print (len([110, 210, 130, 321]))"
   ]
  },
  {
   "cell_type": "code",
   "execution_count": 27,
   "metadata": {},
   "outputs": [
    {
     "name": "stdout",
     "output_type": "stream",
     "text": [
      "9\n",
      "16\n"
     ]
    }
   ],
   "source": [
    "# simple Function\n",
    "def add(p, q, r = 0):  \n",
    "    return p + q + r  \n",
    "\n",
    "print (add(6, 3))  \n",
    "print (add(1, 5, 10))"
   ]
  },
  {
   "cell_type": "markdown",
   "metadata": {},
   "source": [
    "#### Dunder Function or Operator in polymorphism\n",
    "- Dunder function start with (__) double underscore.\n",
    "- add (a+b) -> a.__add__b\n",
    "- sub (a-b) -> a.__sub__b\n",
    "- mul (a*b) -> a.__mul__b\n",
    " \n",
    " Dunder (double underscore) functions or magic methods in Python are special methods that begin and end with double underscores (e.g., __add__, __str__, __len__). These methods are called automatically by Python when certain operations are performed on an object, allowing you to implement operator overloading, which is a key aspect of polymorphism.\n",
    "\n",
    "**Common Dunder Functions (Magic Methods) in Polymorphism:**\n",
    "<br> __add__ : Handles the + operator.<br>\n",
    "__sub__: Handles the - operator.<br>\n",
    "__mul__: Handles the * operator.<br>\n",
    "__truediv__: Handles the / operator.<br>\n",
    "__str__: Handles conversion to a string via str() or print().<br>\n",
    "__len__: Handles the behavior of the len() function.<br>"
   ]
  },
  {
   "cell_type": "code",
   "execution_count": 53,
   "metadata": {},
   "outputs": [
    {
     "name": "stdout",
     "output_type": "stream",
     "text": [
      "6 i + 10 j\n",
      "2 i + 2 j\n",
      "8 i + 24 j\n",
      "2.0 i + 1.5 j\n"
     ]
    }
   ],
   "source": [
    "class Complex:\n",
    "    def __init__ (self, real , imag):\n",
    "        self.real = real\n",
    "        self.imag = imag\n",
    "\n",
    "    def Show(self):\n",
    "        print(self.real,'i +',self.imag,'j')\n",
    "\n",
    "    def __add__(self, num2):        #Dunder Function\n",
    "        newReal = self.real + num2.real\n",
    "        newImag = self.imag + num2.imag\n",
    "        return Complex(newReal, newImag)\n",
    "    \n",
    "    def __sub__(self, num2):        #Dunder Function\n",
    "        newReal = self.real - num2.real\n",
    "        newImag = self.imag - num2.imag\n",
    "        return Complex(newReal, newImag)\n",
    "    def __mul__(self, num2):        #Dunder Function\n",
    "        newReal = self.real * num2.real\n",
    "        newImag = self.imag * num2.imag\n",
    "        return Complex(newReal, newImag)\n",
    "    \n",
    "    def __truediv__(self, num2):        #Dunder Function\n",
    "        newReal = self.real / num2.real\n",
    "        newImag = self.imag / num2.imag\n",
    "        return Complex(newReal, newImag)\n",
    "    \n",
    "        \n",
    "num1 = Complex(2,4)\n",
    "# num1.Show()\n",
    "num2 = Complex(4,6)\n",
    "# num2.Show()\n",
    "num3 = num1 + num2\n",
    "num3.Show()\n",
    "num3 = num2 - num1\n",
    "num3.Show()\n",
    "num3 = num1 * num2\n",
    "num3.Show()\n",
    "num3 = num2 / num1\n",
    "num3.Show()"
   ]
  },
  {
   "cell_type": "code",
   "execution_count": 54,
   "metadata": {},
   "outputs": [
    {
     "name": "stdout",
     "output_type": "stream",
     "text": [
      "(6, 8)\n"
     ]
    }
   ],
   "source": [
    "class Point:\n",
    "    def __init__(self, x, y):\n",
    "        self.x = x\n",
    "        self.y = y\n",
    "\n",
    "    # Overloading the + operator using __add__\n",
    "    def __add__(self, other):\n",
    "        return Point(self.x + other.x, self.y + other.y)\n",
    "\n",
    "    # Overloading __str__ to display the point\n",
    "    def __str__(self):\n",
    "        return f\"({self.x}, {self.y})\"\n",
    "\n",
    "# Creating two Point objects\n",
    "p1 = Point(2, 3)\n",
    "p2 = Point(4, 5)\n",
    "\n",
    "# Adding two Point objects using +\n",
    "result = p1 + p2\n",
    "\n",
    "print(result)  # Output: (6, 8)"
   ]
  },
  {
   "cell_type": "code",
   "execution_count": 57,
   "metadata": {},
   "outputs": [
    {
     "name": "stdout",
     "output_type": "stream",
     "text": [
      "Animal: Generic Animal\n",
      "Dog: Jinny\n"
     ]
    }
   ],
   "source": [
    "# Polymorphism with __str__\n",
    "\n",
    "class Animal:\n",
    "    def __init__(self, name):\n",
    "        self.name = name\n",
    "\n",
    "    # Overriding __str__ method\n",
    "    def __str__(self):\n",
    "        return f\"Animal: {self.name}\"\n",
    "\n",
    "class Dog(Animal):\n",
    "    def __str__(self):\n",
    "        return f\"Dog: {self.name}\"\n",
    "\n",
    "# Creating instances or Object\n",
    "animal = Animal(\"Generic Animal\")\n",
    "dog = Dog(\"Jinny\")\n",
    "\n",
    "print(animal)  \n",
    "print(dog)     "
   ]
  },
  {
   "cell_type": "code",
   "execution_count": 49,
   "metadata": {},
   "outputs": [
    {
     "name": "stdout",
     "output_type": "stream",
     "text": [
      "I am a Tiger and I am dangerous.\n",
      "Tigers are orange with black strips\n",
      "I am an Elephant and I am calm and harmless\n",
      "Elephants are grayish black\n"
     ]
    }
   ],
   "source": [
    "# polymorphism with class\n",
    "class Tiger():\n",
    "    def nature(self):\n",
    "        print('I am a Tiger and I am dangerous.')\n",
    "\n",
    "    def color(self):\n",
    "        print('Tigers are orange with black strips')\n",
    "\n",
    "class Elephant():\n",
    "    def nature(self):\n",
    "        print('I am an Elephant and I am calm and harmless')\n",
    "\n",
    "    def color(self):\n",
    "        print('Elephants are grayish black')\n",
    "\n",
    "obj1 = Tiger()\n",
    "obj2 = Elephant()\n",
    "for animal in (obj1, obj2): # creating a loop to iterate through the obj1 and obj2\n",
    "    animal.nature()\n",
    "    animal.color()"
   ]
  },
  {
   "cell_type": "code",
   "execution_count": 69,
   "metadata": {},
   "outputs": [
    {
     "name": "stdout",
     "output_type": "stream",
     "text": [
      "1386.0\n",
      "132.0\n"
     ]
    }
   ],
   "source": [
    "# Area of Circle using Class , Object and Constructor\n",
    "class Circle():\n",
    "    def __init__(self, radius):\n",
    "        self.radius = radius\n",
    "\n",
    "    def area(self):\n",
    "        return (22/7) * self.radius ** 2\n",
    "    \n",
    "    def parimeter(self):\n",
    "        return 2 * (22/7) * self.radius\n",
    "\n",
    "obj = Circle(21)\n",
    "print(obj.area())\n",
    "print(obj.parimeter())"
   ]
  },
  {
   "cell_type": "code",
   "execution_count": 76,
   "metadata": {},
   "outputs": [
    {
     "name": "stdout",
     "output_type": "stream",
     "text": [
      "Role = accountant\n",
      "Department = finance\n",
      "Salary = 30,00\n"
     ]
    }
   ],
   "source": [
    "#Create Employee class with attribute(role, department and salary)\n",
    "\n",
    "class Employee:\n",
    "    def __init__(self,role,dep,salary):\n",
    "        self.role =  role\n",
    "        self.dep = dep\n",
    "        self.salary = salary\n",
    "\n",
    "    def show(self):\n",
    "        print(\"Role =\",self.role)\n",
    "        print(\"Department =\",self.dep)\n",
    "        print(\"Salary =\",self.salary)\n",
    "\n",
    "emp1 = Employee(\"accountant\",\"finance\",\"30,00\")\n",
    "emp1.show()"
   ]
  },
  {
   "cell_type": "code",
   "execution_count": 84,
   "metadata": {},
   "outputs": [
    {
     "name": "stdout",
     "output_type": "stream",
     "text": [
      "Name = Rammani Pandey\n",
      "Age = 22\n",
      "Role = Data Analytics\n",
      "Department = IT\n",
      "Salary = 50,000\n"
     ]
    }
   ],
   "source": [
    "#add engineer class which inherit the Employee class Properties\n",
    "\n",
    "class Engineer(Employee):\n",
    "    def __init__(self,name,age):\n",
    "        self.name=name\n",
    "        self.age=age\n",
    "        super().__init__(\"Data Analytics\",\"IT\",\"50,000\")\n",
    "\n",
    "    def show1(self):\n",
    "        print(\"Name =\",self.name)\n",
    "        print(\"Age =\",self.age)\n",
    "        \n",
    "\n",
    "eng1 = Engineer(\"Rammani Pandey\", 22)\n",
    "eng1.show1()\n",
    "eng1.show()"
   ]
  },
  {
   "cell_type": "code",
   "execution_count": 92,
   "metadata": {},
   "outputs": [
    {
     "name": "stdout",
     "output_type": "stream",
     "text": [
      "False\n"
     ]
    }
   ],
   "source": [
    "# create a class oder with attribute(item,price)\n",
    "\n",
    "class ordered:\n",
    "    def __init__(self,item,price):\n",
    "        self.item = item\n",
    "        self.price = price\n",
    " # use __gt__ dunder function (greater than)\n",
    "    def __gt__(self,odr2):\n",
    "        return self.price > odr2.price \n",
    "\n",
    "odr1=ordered(\"Namkeen\",40)\n",
    "odr2=ordered(\"Laddu\",50)\n",
    "print(odr1>odr2)"
   ]
  },
  {
   "cell_type": "code",
   "execution_count": 93,
   "metadata": {},
   "outputs": [
    {
     "name": "stdout",
     "output_type": "stream",
     "text": [
      "True\n"
     ]
    }
   ],
   "source": [
    "odr1=ordered(\"toffy\",15)\n",
    "odr2=ordered(\"tea\",10)\n",
    "print(odr1>odr2)"
   ]
  },
  {
   "cell_type": "code",
   "execution_count": 112,
   "metadata": {},
   "outputs": [
    {
     "name": "stdout",
     "output_type": "stream",
     "text": [
      "Name: Ram Pandey\n",
      "Age: 22\n",
      "Salary: 30000\n",
      "Salary after 5% increment: 31500.0\n"
     ]
    }
   ],
   "source": [
    "# Create a class Employee with attributes: name, age, and salary. Write methods to:\n",
    "# Display employee details.\n",
    "# Increment the salary of the employee by a specific percentage.\n",
    "\n",
    "class Employe:\n",
    "    def __init__(self,name,age,salary):\n",
    "        self.name = name\n",
    "        self.age = age\n",
    "        self.salary=salary\n",
    "    \n",
    "    def details(self):\n",
    "        print(f\"Name: {self.name}\")\n",
    "        print(f\"Age: {self.age}\")\n",
    "        print(f\"Salary: {self.salary}\")\n",
    "\n",
    "    def increment_salary(self, percentage):\n",
    "        # Increase salary by a specific percentage\n",
    "        self.salary += self.salary * (percentage / 100)\n",
    "        print(f\"Salary after {percentage}% increment: {self.salary}\")\n",
    "\n",
    "# Creating an employee instance\n",
    "e1 = Employee(\"Ram Pandey\", 22, 30000)\n",
    "\n",
    "# Display details\n",
    "e1.details()\n",
    "\n",
    "# Increment salary by 10%\n",
    "e1.increment_salary(5)"
   ]
  },
  {
   "cell_type": "markdown",
   "metadata": {},
   "source": [
    "### **Method overloding**\n",
    "Method overloding refers to a the ability to define multiple methods with the same name but diffrent parameters. but python does not support method overeloding like some other programming language(such as Java or C++). In Python, you can only define one method with a given name in a class. If you try to define multiple methods with the same name but different arguments, the last method defined will override the previous ones.<br>\n",
    "\n",
    "Python achieves a similar behavior using:\n",
    "\n",
    "Default arguments.<br>\n",
    "Variable-length arguments (*args and **kwargs).<br>\n",
    "Type checking inside the method."
   ]
  },
  {
   "cell_type": "markdown",
   "metadata": {},
   "source": [
    "#### 1. Default Arguments"
   ]
  },
  {
   "cell_type": "code",
   "execution_count": 1,
   "metadata": {},
   "outputs": [
    {
     "name": "stdout",
     "output_type": "stream",
     "text": [
      "2\n",
      "5\n",
      "9\n"
     ]
    }
   ],
   "source": [
    "class Calculator:\n",
    "    def add(self, a=0, b=0, c=0):\n",
    "        return a + b + c\n",
    "\n",
    "calc = Calculator()\n",
    "\n",
    "# Using the same method with different numbers of arguments\n",
    "print(calc.add(2))       \n",
    "print(calc.add(2, 3))    \n",
    "print(calc.add(2, 3, 4)) "
   ]
  },
  {
   "cell_type": "markdown",
   "metadata": {},
   "source": [
    "#### 2. Variable-Length Arguments (*args and **kwargs)"
   ]
  },
  {
   "cell_type": "code",
   "execution_count": 6,
   "metadata": {},
   "outputs": [
    {
     "name": "stdout",
     "output_type": "stream",
     "text": [
      "2\n",
      "10\n",
      "18\n"
     ]
    }
   ],
   "source": [
    "class Calculator:\n",
    "    def add(self, *args):\n",
    "        return sum(args)\n",
    "\n",
    "calc = Calculator()\n",
    "\n",
    "# The same method can accept different numbers of arguments\n",
    "print(calc.add(2))      \n",
    "print(calc.add(2, 3, 5))   \n",
    "print(calc.add(2, 3, 4, 5, 4)) #we can pass multiple argument"
   ]
  },
  {
   "cell_type": "markdown",
   "metadata": {},
   "source": [
    "#### 3. Type Checking Inside the Method"
   ]
  },
  {
   "cell_type": "code",
   "execution_count": 3,
   "metadata": {},
   "outputs": [
    {
     "name": "stdout",
     "output_type": "stream",
     "text": [
      "25\n",
      "15\n"
     ]
    }
   ],
   "source": [
    "class Calculator:\n",
    "    def multiply(self, a, b=None):\n",
    "        if b is None:   # If only one argument is passed\n",
    "            return a * a\n",
    "        else:           # If two arguments are passed\n",
    "            return a * b\n",
    "\n",
    "calc = Calculator()\n",
    "\n",
    "# The same method behaves differently based on the number of arguments\n",
    "print(calc.multiply(5))     \n",
    "print(calc.multiply(5, 3))   "
   ]
  },
  {
   "cell_type": "markdown",
   "metadata": {},
   "source": [
    "Python doesn't support method overloading in the traditional sense.\n",
    "You can achieve similar behavior using default arguments, variable-length arguments, or type checking inside methods"
   ]
  },
  {
   "cell_type": "markdown",
   "metadata": {},
   "source": [
    "### Method overriding\n",
    "Method overriding in Python is a concept where a subclass provides a specific implementation of a method that is already defined in its parent class.<br>When a method in a subclass has the same name, parameters, and return type as a method in its parent class, the method in the subclass overrides the method in the parent class."
   ]
  },
  {
   "cell_type": "code",
   "execution_count": 18,
   "metadata": {},
   "outputs": [
    {
     "name": "stdout",
     "output_type": "stream",
     "text": [
      "Addition is: 6\n",
      "Multiplication is: 15\n"
     ]
    }
   ],
   "source": [
    "class add:\n",
    "    \n",
    "    def result(self, a, b):\n",
    "        return f'Addition is: {a + b}'\n",
    "\n",
    "# 'multi' class inherits from 'add'\n",
    "class multi(add):   \n",
    "\n",
    "    def result(self, x, y):\n",
    "        # Calling parent class result method using super()\n",
    "        add_result = super().result(2, 4)  # You can pass any values for addition\n",
    "        print(add_result)  # Prints result of the addition\n",
    "        return f'Multiplication is: {x * y}'\n",
    "\n",
    "cal = multi()\n",
    "print(cal.result(3, 5))  # Output: Addition result first, then multiplication result"
   ]
  },
  {
   "cell_type": "code",
   "execution_count": 19,
   "metadata": {},
   "outputs": [
    {
     "name": "stdout",
     "output_type": "stream",
     "text": [
      "Bark\n",
      "Some generic animal soundMeow\n"
     ]
    }
   ],
   "source": [
    "# Parent class\n",
    "class Animal:\n",
    "    def sound(self):\n",
    "        return \"Some generic animal sound\"\n",
    "\n",
    "# Child class\n",
    "class Dog(Animal):\n",
    "    def sound(self):\n",
    "        return \"Bark\"  # Overriding the method in Animal class\n",
    "\n",
    "class Cat(Animal):\n",
    "    def sound(self):\n",
    "        parent_sound = super().sound() \n",
    "        return parent_sound + \"Meow\"  # Overriding the method in Animal class\n",
    "\n",
    "# Creating objects\n",
    "dog = Dog()\n",
    "cat = Cat()\n",
    "\n",
    "# Calling the sound method\n",
    "print(dog.sound())  # Output: Bark\n",
    "print(cat.sound())  # Output: Meow\n"
   ]
  },
  {
   "cell_type": "code",
   "execution_count": 8,
   "metadata": {},
   "outputs": [
    {
     "name": "stdout",
     "output_type": "stream",
     "text": [
      "Some generic animal sound and Bark\n"
     ]
    }
   ],
   "source": [
    "class Animal:\n",
    "    def sound(self):\n",
    "        return \"Some generic animal sound\"\n",
    "\n",
    "class Dog(Animal):\n",
    "    def sound(self):\n",
    "        parent_sound = super().sound()  # Calling the parent class's method\n",
    "        return parent_sound + \" and Bark\"\n",
    "\n",
    "dog = Dog()\n",
    "print(dog.sound())  # Output: Some generic animal sound and Bark"
   ]
  }
 ],
 "metadata": {
  "kernelspec": {
   "display_name": "Python 3",
   "language": "python",
   "name": "python3"
  },
  "language_info": {
   "codemirror_mode": {
    "name": "ipython",
    "version": 3
   },
   "file_extension": ".py",
   "mimetype": "text/x-python",
   "name": "python",
   "nbconvert_exporter": "python",
   "pygments_lexer": "ipython3",
   "version": "3.11.3"
  }
 },
 "nbformat": 4,
 "nbformat_minor": 2
}
