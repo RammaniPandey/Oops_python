{
 "cells": [
  {
   "cell_type": "markdown",
   "metadata": {},
   "source": [
    "### **Object-Oriented programming  (OOPS)**\n",
    "- It stands for Object-Oriented Programming.\n",
    "- It is based on objects\n",
    "- It is based on real world entity.\n",
    "- It provides data hiding so it is very secure.\n",
    "- It provides reusability feature.\n",
    "\n",
    "#### Principles of OOPs: \n",
    "- Class \n",
    "- Object\n",
    "- Method\n",
    "- Inheritance\n",
    "- Polymorphism\n",
    "- Data Abstraction\n",
    "- Encapsulation"
   ]
  },
  {
   "cell_type": "markdown",
   "metadata": {},
   "source": [
    "#### **Class** \n",
    "- is a blueprint or template for creating objects.\n",
    "- Collection of objects.\n",
    "- it is a logical entity that has some specific attributes and methods.\n",
    "- For Ex:- If any person is an object. class will have all the information about the structure or behaviour that person.\n",
    "\n",
    "- **Syntax** :- class classname()\n",
    "\n",
    "- **Example:**\n",
    "\n",
    "- Class Abc:  ##class\n",
    "- ob1=Abc() ##object "
   ]
  },
  {
   "cell_type": "code",
   "execution_count": 31,
   "metadata": {},
   "outputs": [
    {
     "name": "stdout",
     "output_type": "stream",
     "text": [
      "hello\n"
     ]
    }
   ],
   "source": [
    "class Temp: # class\n",
    "\n",
    "  def __init__(self): #constructor\n",
    "    print('hello')\n",
    "\n",
    "obj = Temp() # object"
   ]
  },
  {
   "cell_type": "code",
   "execution_count": 32,
   "metadata": {},
   "outputs": [],
   "source": [
    "class car():\n",
    "    pass"
   ]
  },
  {
   "cell_type": "markdown",
   "metadata": {},
   "source": [
    "#### **Object**\n",
    "- object is an instance of class and it contains it's own data and methods\n",
    "- For Ex:- Car ---> tata<br>sport ---> gilli danda<br>\n",
    "\n",
    "- **Syntax :-** object_name = class_name()"
   ]
  },
  {
   "cell_type": "code",
   "execution_count": 33,
   "metadata": {},
   "outputs": [
    {
     "data": {
      "text/plain": [
       "<__main__.car at 0x17e30477a50>"
      ]
     },
     "execution_count": 33,
     "metadata": {},
     "output_type": "execute_result"
    }
   ],
   "source": [
    "c = car()\n",
    "c"
   ]
  },
  {
   "cell_type": "code",
   "execution_count": 34,
   "metadata": {},
   "outputs": [],
   "source": [
    "L = [1,2,3,4,5]"
   ]
  },
  {
   "cell_type": "code",
   "execution_count": 35,
   "metadata": {},
   "outputs": [
    {
     "data": {
      "text/plain": [
       "[]"
      ]
     },
     "execution_count": 35,
     "metadata": {},
     "output_type": "execute_result"
    }
   ],
   "source": [
    "L = list()\n",
    "L"
   ]
  },
  {
   "cell_type": "code",
   "execution_count": 53,
   "metadata": {},
   "outputs": [
    {
     "data": {
      "text/plain": [
       "''"
      ]
     },
     "execution_count": 53,
     "metadata": {},
     "output_type": "execute_result"
    }
   ],
   "source": [
    "s = str()\n",
    "s"
   ]
  },
  {
   "cell_type": "code",
   "execution_count": 54,
   "metadata": {},
   "outputs": [
    {
     "data": {
      "text/plain": [
       "{}"
      ]
     },
     "execution_count": 54,
     "metadata": {},
     "output_type": "execute_result"
    }
   ],
   "source": [
    "t = dict()\n",
    "t"
   ]
  },
  {
   "cell_type": "code",
   "execution_count": 38,
   "metadata": {},
   "outputs": [
    {
     "data": {
      "text/plain": [
       "set()"
      ]
     },
     "execution_count": 38,
     "metadata": {},
     "output_type": "execute_result"
    }
   ],
   "source": [
    "s = set()\n",
    "s"
   ]
  },
  {
   "cell_type": "code",
   "execution_count": 60,
   "metadata": {},
   "outputs": [
    {
     "name": "stdout",
     "output_type": "stream",
     "text": [
      "Ram 20 rammanipandey2004@gmail.com\n"
     ]
    }
   ],
   "source": [
    "class Details:\n",
    "    name = \"Ram\"\n",
    "    age = 20\n",
    "    email = 'rammanipandey2004@gmail.com'\n",
    "\n",
    "\n",
    "obj1 = Details()\n",
    "print(obj1.name , obj1.age , obj1.email)"
   ]
  },
  {
   "cell_type": "markdown",
   "metadata": {},
   "source": [
    "### **self parameter**\n",
    "- The self parameter is a reference to the current instance of the class, and is used to access variables that belongs to the class.\n",
    "\n",
    "- It must be provided as the extra parameter inside the method definition."
   ]
  },
  {
   "cell_type": "code",
   "execution_count": 61,
   "metadata": {},
   "outputs": [
    {
     "name": "stdout",
     "output_type": "stream",
     "text": [
      "1641494272400\n",
      "My name is Rohan and I'm 20 years old.\n"
     ]
    }
   ],
   "source": [
    "class Details:\n",
    "    name = \"Rohan\"\n",
    "    age = 20\n",
    "\n",
    "    def desc(self):\n",
    "        print(id(self)) #to check self memory address\n",
    "        print(\"My name is\", self.name, \"and I'm\", self.age, \"years old.\")\n",
    "\n",
    "obj1 = Details()\n",
    "obj1.desc()"
   ]
  },
  {
   "cell_type": "code",
   "execution_count": 62,
   "metadata": {},
   "outputs": [
    {
     "data": {
      "text/plain": [
       "1641494272400"
      ]
     },
     "execution_count": 62,
     "metadata": {},
     "output_type": "execute_result"
    }
   ],
   "source": [
    "id(obj1) #That means obj1 hi self hai jo chhup ke baitha hua hai "
   ]
  },
  {
   "cell_type": "code",
   "execution_count": 63,
   "metadata": {},
   "outputs": [
    {
     "data": {
      "text/plain": [
       "3"
      ]
     },
     "execution_count": 63,
     "metadata": {},
     "output_type": "execute_result"
    }
   ],
   "source": [
    "L = [1,2,3]\n",
    "len(L) # function ->bcos it is outside the list class"
   ]
  },
  {
   "cell_type": "code",
   "execution_count": 65,
   "metadata": {},
   "outputs": [],
   "source": [
    "L.append(7)# method -> bcos it is inside the list class"
   ]
  },
  {
   "cell_type": "code",
   "execution_count": 66,
   "metadata": {},
   "outputs": [
    {
     "data": {
      "text/plain": [
       "5"
      ]
     },
     "execution_count": 66,
     "metadata": {},
     "output_type": "execute_result"
    }
   ],
   "source": [
    "len(L)"
   ]
  },
  {
   "cell_type": "code",
   "execution_count": 67,
   "metadata": {},
   "outputs": [
    {
     "name": "stdout",
     "output_type": "stream",
     "text": [
      "[1, 2, 3, 7, 7]\n"
     ]
    }
   ],
   "source": [
    "print(L)"
   ]
  },
  {
   "cell_type": "code",
   "execution_count": 17,
   "metadata": {},
   "outputs": [
    {
     "name": "stdout",
     "output_type": "stream",
     "text": [
      "Hi Rammani your avg score is: 146.33\n"
     ]
    }
   ],
   "source": [
    "class student:\n",
    "    def __init__(self,name,marks):\n",
    "        self.name = name\n",
    "        self.marks =marks\n",
    "    \n",
    "    def get_avg (self):\n",
    "        s = 0\n",
    "        for val in self.marks:\n",
    "            s += val\n",
    "        print(\"Hi\",self.name,\"your avg score is: {:.2f}\".format(s/3))\n",
    "\n",
    "obj = student(\"Rammani\",[87,98,89,78,87])\n",
    "obj.get_avg()"
   ]
  },
  {
   "cell_type": "code",
   "execution_count": 15,
   "metadata": {},
   "outputs": [
    {
     "name": "stdout",
     "output_type": "stream",
     "text": [
      "Hi Rammani your avg score is: 91.33\n"
     ]
    }
   ],
   "source": [
    "class Student: \n",
    "    def __init__(self, name,marks):\n",
    "        self.name = name\n",
    "        self.marks = marks\n",
    "    \n",
    "    def get_avg(self): \n",
    "        total = 0\n",
    "        for val in self.marks:\n",
    "            total += val\n",
    "        # Formatting the average to 2 decimal places\n",
    "        print(\"Hi\", self.name, \"your avg score is: {:.2f}\".format(total / len(self.marks)))\n",
    "\n",
    "# Creating an instance or object of the Student class\n",
    "obj = Student(\"Rammani\", [87, 98, 89])\n",
    "obj.get_avg()"
   ]
  },
  {
   "cell_type": "code",
   "execution_count": 71,
   "metadata": {},
   "outputs": [
    {
     "name": "stdout",
     "output_type": "stream",
     "text": [
      "Car Brand: Toyota, Model: Camry\n",
      "Car Brand: Honda, Model: Civic\n",
      "Car Brand: Kia, Model: Kiaa\n"
     ]
    }
   ],
   "source": [
    "class Car: # Class\n",
    "    def __init__(self, brand, model):\n",
    "        self.brand = brand  # attribute\n",
    "        self.model = model  # attribute\n",
    "\n",
    "    def display_info(self):  # method\n",
    "        print(f\"Car Brand: {self.brand}, Model: {self.model}\")\n",
    "\n",
    "# Creating objects\n",
    "car1 = Car(\"Toyota\", \"Camry\")\n",
    "car2 = Car(\"Honda\", \"Civic\")\n",
    "car3 = Car(\"Kia\", \"Kiaa\")\n",
    "\n",
    "car1.display_info()  # Output: Car Brand: Toyota, Model: Camry\n",
    "car2.display_info()  # Output: Car Brand: Honda, Model: Civic\n",
    "car3.display_info()"
   ]
  },
  {
   "cell_type": "markdown",
   "metadata": {},
   "source": [
    "- Classes are blueprints for creating objects.\n",
    "- Objects are instances of classes."
   ]
  },
  {
   "cell_type": "code",
   "execution_count": 47,
   "metadata": {},
   "outputs": [],
   "source": [
    "class point:\n",
    "\n",
    "    #parametrized constructor\n",
    "    def __init__ (self,x,y):\n",
    "        self.x_cod = x\n",
    "        self.y_cod = y\n",
    "\n",
    "    def __str__(self):\n",
    "        return '<{},{}>'.format(self.x_cod,self.y_cod)\n",
    "    \n",
    "    def euclidean_distance(self,other):\n",
    "        return((self.x_cod - other.x_cod)**2 + (self.y_cod - other.y_cod)**2)**0.5"
   ]
  },
  {
   "cell_type": "code",
   "execution_count": 48,
   "metadata": {},
   "outputs": [
    {
     "data": {
      "text/plain": [
       "14.142135623730951"
      ]
     },
     "execution_count": 48,
     "metadata": {},
     "output_type": "execute_result"
    }
   ],
   "source": [
    "ob = point(0,0)\n",
    "ob2 = point(10,10)\n",
    "ob.euclidean_distance(ob2)  # Euclidean distance"
   ]
  },
  {
   "cell_type": "code",
   "execution_count": 49,
   "metadata": {},
   "outputs": [
    {
     "name": "stdout",
     "output_type": "stream",
     "text": [
      "The Line Equation is: 2x + 3y + 4\n"
     ]
    }
   ],
   "source": [
    "class line:\n",
    "    def __init__(self,A,B,C) -> None:\n",
    "        self.A=A\n",
    "        self.B=B\n",
    "        self.C=C\n",
    "    def __str__(self):\n",
    "        return '{}x + {}y + {}'.format(self.A,self.B,self.C)\n",
    "\n",
    "\n",
    "\n",
    "ob = line(2,3,4)\n",
    "print(\"The Line Equation is:\",ob)"
   ]
  },
  {
   "cell_type": "code",
   "execution_count": 1,
   "metadata": {},
   "outputs": [
    {
     "name": "stdout",
     "output_type": "stream",
     "text": [
      "572ft\n",
      "This house is 572ft\n",
      "The architect is Piyush\n"
     ]
    }
   ],
   "source": [
    "# we define a class using the keyword class <name_of_class>:\n",
    " \n",
    "class house:       \n",
    "    height = \"572ft\"                 # predefined attributes of a class\n",
    "    architect = \"Piyush\"\n",
    "  \n",
    "    def display_height(self):\n",
    "        print(\"This house is \" + self.height)  # methods for displaying height\n",
    "        \n",
    "    def display_architect(self):\n",
    "        print (\"The architect is \" + self.architect) # methods for displaying architect\n",
    "        \n",
    "        \n",
    "# Driver Code\n",
    "Bungalow = house()                   # object creation\n",
    " \n",
    "print(Bungalow.height)                   # accessing class attributes\n",
    " \n",
    "Bungalow.display_height()                # calling method through object\n",
    " \n",
    "Bungalow.display_architect()             # calling method through object\n",
    "# python 3 syntax"
   ]
  },
  {
   "cell_type": "markdown",
   "metadata": {},
   "source": [
    "### Constructor\n",
    "- Special type function/Method which is used to initialized the instance member of the class. \n",
    "- task of constructor is to initialize and assign values to the data members of the class when an object of the class is created.\n",
    "- Constructors are used to initialize the objects state,\n",
    "\n",
    " **Example:-**\n",
    " <br>Class Ram</br>\n",
    " def __init__ (self)   #Constructor\n",
    " <br>--------or---------</br>\n",
    " def __init__(self , vari1, vari2,......etc)\n",
    "\n",
    "\n",
    "- The __init__() Method is similar to constructors in C++ and java.\n",
    "- in python the __init__ () method is called the constructor and always called when an object is created.\n",
    "- **Self keyword** we can access the attributes and methods of the class in python. \n",
    "\n",
    "\n",
    " \n"
   ]
  },
  {
   "cell_type": "code",
   "execution_count": 51,
   "metadata": {},
   "outputs": [
    {
     "name": "stdout",
     "output_type": "stream",
     "text": [
      "My name is Rammani Pandey and i'm currently pursuing Btech Computer Science with Specialization in Artificial Intelligence......!\n"
     ]
    }
   ],
   "source": [
    "class A():\n",
    "    def __init__(self):          #default\n",
    "        self.str1 = \"Rammani Pandey\"\n",
    "        self.str2 = \"i'm currently pursuing Btech Computer Science with Specialization in Artificial Intelligence......!\"\n",
    "        print(\"My name is\",self.str1,\"and\",self.str2)\n",
    "        # print(\"and\",self.str2)\n",
    "\n",
    "obj = A()\n"
   ]
  },
  {
   "cell_type": "code",
   "execution_count": 52,
   "metadata": {},
   "outputs": [
    {
     "name": "stdout",
     "output_type": "stream",
     "text": [
      "Rammani pandey from India....! - rammanipandey2004@gmail.com\n"
     ]
    }
   ],
   "source": [
    "class A():\n",
    "    def __init__ (self, name,userid):\n",
    "        self.name = name\n",
    "        self.userid = userid\n",
    "\n",
    "ob = A(\"Rammani pandey from India....!\",'- rammanipandey2004@gmail.com')\n",
    "print(ob.name,ob.userid)"
   ]
  },
  {
   "cell_type": "markdown",
   "metadata": {},
   "source": [
    "Ex - Create Account class with 2 attribut - account no. and balance\n",
    "create method for debit, credit and printing the balance."
   ]
  },
  {
   "cell_type": "code",
   "execution_count": 19,
   "metadata": {},
   "outputs": [
    {
     "name": "stdout",
     "output_type": "stream",
     "text": [
      "Hi 50 was debited..\n",
      "total balance= 50\n",
      "Hi 10 was credited..\n",
      "total balance= 60\n"
     ]
    }
   ],
   "source": [
    "class Account:\n",
    "    def __init__(self, bal , acc):\n",
    "        self.balance = bal\n",
    "        self.account_no = acc\n",
    "\n",
    "    def debit(self,amount):\n",
    "        self.balance -= amount\n",
    "        print(\"Hi\",amount,\"was debited..\")\n",
    "        print(\"total balance=\",self.get_balance())\n",
    "\n",
    "    def credit(self, amount):\n",
    "        self.balance +=amount\n",
    "        print(\"Hi\",amount,\"was credited..\")\n",
    "        print(\"total balance=\",self.get_balance())\n",
    "\n",
    "    def get_balance(self):\n",
    "        return self.balance\n",
    "    \n",
    "obj  = Account(100,8075458543)\n",
    "obj.debit(50)\n",
    "obj.credit(10)\n",
    "        "
   ]
  },
  {
   "cell_type": "code",
   "execution_count": 21,
   "metadata": {},
   "outputs": [
    {
     "name": "stdout",
     "output_type": "stream",
     "text": [
      "Hi 1000 was credited..\n",
      "total balance= 1060\n"
     ]
    }
   ],
   "source": [
    "obj.credit(1000)"
   ]
  },
  {
   "cell_type": "code",
   "execution_count": 22,
   "metadata": {},
   "outputs": [
    {
     "name": "stdout",
     "output_type": "stream",
     "text": [
      "Hi 349 was debited..\n",
      "total balance= 711\n"
     ]
    }
   ],
   "source": [
    "obj.debit(349)"
   ]
  },
  {
   "cell_type": "markdown",
   "metadata": {},
   "source": [
    "### del keyword\n",
    "\n",
    "- used to delete object properties or object itself."
   ]
  },
  {
   "cell_type": "code",
   "execution_count": 45,
   "metadata": {},
   "outputs": [
    {
     "name": "stdout",
     "output_type": "stream",
     "text": [
      "Age is 21 and course is Math\n"
     ]
    }
   ],
   "source": [
    "class person:\n",
    "    def __init__(self,age,course) -> None:\n",
    "        self.age = age\n",
    "        self.course = course\n",
    "\n",
    "obj = person(21,'Math')\n",
    "print('Age is',obj.age,'and course is',obj.course)"
   ]
  },
  {
   "cell_type": "code",
   "execution_count": 46,
   "metadata": {},
   "outputs": [],
   "source": [
    "del obj.course"
   ]
  },
  {
   "cell_type": "code",
   "execution_count": 41,
   "metadata": {},
   "outputs": [],
   "source": [
    "del obj"
   ]
  },
  {
   "cell_type": "code",
   "execution_count": 48,
   "metadata": {},
   "outputs": [
    {
     "name": "stdout",
     "output_type": "stream",
     "text": [
      "Age is 21 and course is\n"
     ]
    }
   ],
   "source": [
    "print('Age is',obj.age,'and course is')"
   ]
  }
 ],
 "metadata": {
  "kernelspec": {
   "display_name": "Python 3",
   "language": "python",
   "name": "python3"
  },
  "language_info": {
   "codemirror_mode": {
    "name": "ipython",
    "version": 3
   },
   "file_extension": ".py",
   "mimetype": "text/x-python",
   "name": "python",
   "nbconvert_exporter": "python",
   "pygments_lexer": "ipython3",
   "version": "3.11.3"
  }
 },
 "nbformat": 4,
 "nbformat_minor": 2
}
